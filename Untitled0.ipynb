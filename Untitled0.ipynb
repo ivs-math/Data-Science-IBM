{
  "nbformat": 4,
  "nbformat_minor": 0,
  "metadata": {
    "colab": {
      "name": "Untitled0.ipynb",
      "provenance": [],
      "collapsed_sections": [],
      "authorship_tag": "ABX9TyNbh2jcXT6L9yxKFU0PIMLz",
      "include_colab_link": true
    },
    "kernelspec": {
      "name": "python3",
      "display_name": "Python 3"
    },
    "language_info": {
      "name": "python"
    }
  },
  "cells": [
    {
      "cell_type": "markdown",
      "metadata": {
        "id": "view-in-github",
        "colab_type": "text"
      },
      "source": [
        "<a href=\"https://colab.research.google.com/github/ivs-math/watson/blob/master/Untitled0.ipynb\" target=\"_parent\"><img src=\"https://colab.research.google.com/assets/colab-badge.svg\" alt=\"Open In Colab\"/></a>"
      ]
    },
    {
      "cell_type": "markdown",
      "source": [
        "Veamos si guadra los cambios que le voy haciendo\n",
        "$x+1$"
      ],
      "metadata": {
        "id": "8XkuTC_hWGTG"
      }
    },
    {
      "cell_type": "code",
      "source": [
        "print('Cualquier cosa')"
      ],
      "metadata": {
        "colab": {
          "base_uri": "https://localhost:8080/"
        },
        "id": "J-eZnYbYWL3v",
        "outputId": "4bf9a4ee-f73b-450d-e91a-e65edf3f49d1"
      },
      "execution_count": 3,
      "outputs": [
        {
          "output_type": "stream",
          "name": "stdout",
          "text": [
            "Cualquier cosa\n"
          ]
        }
      ]
    },
    {
      "cell_type": "code",
      "source": [
        ""
      ],
      "metadata": {
        "id": "F5GG78JGWpA2"
      },
      "execution_count": null,
      "outputs": []
    }
  ]
}