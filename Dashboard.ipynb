{
  "nbformat": 4,
  "nbformat_minor": 0,
  "metadata": {
    "colab": {
      "name": "Dashboard.ipynb",
      "provenance": [],
      "authorship_tag": "ABX9TyOfTGtB6/bsKbJ0X31RKGhf",
      "include_colab_link": true
    },
    "kernelspec": {
      "name": "python3",
      "display_name": "Python 3"
    },
    "language_info": {
      "name": "python"
    }
  },
  "cells": [
    {
      "cell_type": "markdown",
      "metadata": {
        "id": "view-in-github",
        "colab_type": "text"
      },
      "source": [
        "<a href=\"https://colab.research.google.com/github/ivs-math/watson/blob/master/Dashboard.ipynb\" target=\"_parent\"><img src=\"https://colab.research.google.com/assets/colab-badge.svg\" alt=\"Open In Colab\"/></a>"
      ]
    },
    {
      "cell_type": "markdown",
      "source": [
        "# Hello\n",
        "This is my final Phyton code for the  interactive dashboard made in **Plotly-Dash** . I know this is not in the usual format but I hope you find it easy to read:"
      ],
      "metadata": {
        "id": "2kLVQazu0lKx"
      }
    },
    {
      "cell_type": "code",
      "source": [
        "# Import required libraries\n",
        "#You need to install dash fist\n",
        "!pip install dash\n",
        "\n",
        "import pandas as pd\n",
        "import dash\n",
        "from dash import dcc\n",
        "from dash import html\n",
        "from dash.dependencies import Input, Output\n",
        "import plotly.express as px\n",
        "\n",
        "# Read the airline data into pandas dataframe\n",
        "spacex_df = pd.read_csv(\"spacex_launch_dash.csv\")\n",
        "max_payload = spacex_df['Payload Mass (kg)'].max()\n",
        "min_payload = spacex_df['Payload Mass (kg)'].min()\n",
        "\n",
        "# Create a dash application\n",
        "app = dash.Dash(__name__)\n",
        "\n",
        "# Create an app layout\n",
        "app.layout = html.Div(children=[html.H1('SpaceX Launch Records Dashboard',\n",
        "                                        style={'textAlign': 'center', 'color': '#503D36',\n",
        "                                               'font-size': 40}),\n",
        "                                # TASK 1: Add a dropdown list to enable Launch Site selection\n",
        "                                dcc.Dropdown(id='site-dropdown', options=[{'label':'All Sites','value':'ALL'},\n",
        "                                                                          {'label':'CCAFS LC-40','value':'site1'},\n",
        "                                                                          {'label':'VAFB SLC-4E','value':'site2'},\n",
        "                                                                          {'label':'KSC LC-39A','value':'site3'}],\n",
        "                                          searchable=True),\n",
        "                                # The default select value is for ALL sites\n",
        "                                # dcc.Dropdown(id='site-dropdown',...)\n",
        "                                html.Br(),\n",
        "\n",
        "                                # TASK 2: Add a pie chart to show the total successful launches count for all sites\n",
        "                                # If a specific launch site was selected, show the Success vs. Failed counts for the site\n",
        "\n",
        "\n",
        "                                html.Div(dcc.Graph(id='success-pie-chart')),\n",
        "                                html.Br(),\n",
        "\n",
        "                                html.P(\"Payload range (Kg):\"),\n",
        "                                # TASK 3: Add a slider to select payload range\n",
        "                                #dcc.RangeSlider(id='payload-slider',...)\n",
        "                                dcc.RangeSlider(id='payload-slider', min=0, max=10000, step=1000 , marks={0: '0',2500: '2500',5000:'5000',7500:'7500',10000:'10000'}, value=[min_payload, max_payload]),\n",
        "                                # TASK 4: Add a scatter chart to show the correlation between payload and launch success\n",
        "                                html.Div(dcc.Graph(id='success-payload-scatter-chart')),\n",
        "                                ])\n",
        "\n",
        "# TASK 2:\n",
        "# Add a callback function for `site-dropdown` as input, `success-pie-chart` as output\n",
        "@app.callback(Output(component_id='success-pie-chart', component_property='figure'),\n",
        "              Input(component_id='site-dropdown', component_property='value'))\n",
        "def get_pie_chart(entered_site):\n",
        "    filtered_df=spacex_df\n",
        "    if entered_site=='ALL':\n",
        "        fig=px.pie(filtered_df,values='class',names='Mission Outcome',\n",
        "                   title='All Places')\n",
        "        return fig\n",
        "    elif entered_site=='site1':\n",
        "        filtered_df=spacex_df[spacex_df['Launch Site']=='CCAFS LC-40']\n",
        "        fig=px.pie(filtered_df,values='class',names='Mission Outcome',\n",
        "                   title='CCAFS LC-40')\n",
        "        return fig\n",
        "    elif entered_site=='site2':\n",
        "        filtered_df=spacex_df[spacex_df['Launch Site']=='VAFB SLC-4E']\n",
        "        fig=px.pie(filtered_df,values='class',names='Mission Outcome',\n",
        "                   title='VAFB SLC-4E')\n",
        "        return fig\n",
        "    else: #entered_site=='site3':\n",
        "        filtered_df=spacex_df[spacex_df['Launch Site']=='KSC LC-39A']\n",
        "        fig=px.pie(filtered_df,values='class',names='Mission Outcome',\n",
        "                   title='KSC LC-39A')\n",
        "        return fig\n",
        "#Hay que tener cuidado con el ELIF por que le estaba pidiendo a fuerzas seleccionar un valor no existente y pos no\n",
        "# TASK 4:\n",
        "# Add a callback function for `site-dropdown` and `payload-slider` as inputs, `success-payload-scatter-chart` as output\n",
        "@app.callback(Output(component_id='success-payload-scatter-chart', component_property='figure'),\n",
        "              [Input(component_id='site-dropdown', component_property='value'), Input(component_id=\"payload-slider\", component_property=\"value\")])\n",
        "def get_scatter(entered_site,entered_load):\n",
        "    filtered_df=spacex_df\n",
        "    low,high=entered_load\n",
        "    mask = (filtered_df['Payload Mass (kg)'] > low) & (filtered_df['Payload Mass (kg)'] < high)\n",
        "    if entered_site=='ALL':\n",
        "        fig=px.scatter(filtered_df[mask],x='Payload Mass (kg)',y='class',color='Booster Version', hover_data=['Payload Mass (kg)'],\n",
        "                   title='All Places')\n",
        "        return fig\n",
        "    elif entered_site=='site1':\n",
        "        filtered_df=spacex_df[spacex_df['Launch Site']=='CCAFS LC-40']\n",
        "        fig=px.scatter(filtered_df[mask],x='Payload Mass (kg)',y='class',color='Booster Version', hover_data=['Payload Mass (kg)'],\n",
        "                   title='CCAFS LC-40')\n",
        "        return fig\n",
        "    elif entered_site=='site2':\n",
        "        filtered_df=spacex_df[spacex_df['Launch Site']=='VAFB SLC-4E']\n",
        "        fig=px.scatter(filtered_df[mask],x='Payload Mass (kg)',y='class',color='Booster Version', hover_data=['Payload Mass (kg)'],\n",
        "                   title='VAFB SLC-4E')\n",
        "        return fig\n",
        "    else: #entered_site=='site3':\n",
        "        filtered_df=spacex_df[spacex_df['Launch Site']=='KSC LC-39A']\n",
        "        fig=px.scatter(filtered_df[mask],x='Payload Mass (kg)',y='class',color='Booster Version', hover_data=['Payload Mass (kg)'],\n",
        "                   title='KSC LC-39A')\n",
        "        return fig\n",
        "# Run the app\n",
        "if __name__ == '__main__':\n",
        "    app.run_server()\n"
      ],
      "metadata": {
        "colab": {
          "base_uri": "https://localhost:8080/"
        },
        "id": "bwEem9Of1D0k",
        "outputId": "f029306b-cccc-478a-e497-3f96f80facd6"
      },
      "execution_count": 4,
      "outputs": [
        {
          "output_type": "stream",
          "name": "stdout",
          "text": [
            "Requirement already satisfied: dash in /usr/local/lib/python3.7/dist-packages (2.1.0)\n",
            "Requirement already satisfied: dash-table==5.0.0 in /usr/local/lib/python3.7/dist-packages (from dash) (5.0.0)\n",
            "Requirement already satisfied: dash-core-components==2.0.0 in /usr/local/lib/python3.7/dist-packages (from dash) (2.0.0)\n",
            "Requirement already satisfied: flask-compress in /usr/local/lib/python3.7/dist-packages (from dash) (1.10.1)\n",
            "Requirement already satisfied: dash-html-components==2.0.0 in /usr/local/lib/python3.7/dist-packages (from dash) (2.0.0)\n",
            "Requirement already satisfied: Flask>=1.0.4 in /usr/local/lib/python3.7/dist-packages (from dash) (1.1.4)\n",
            "Requirement already satisfied: plotly>=5.0.0 in /usr/local/lib/python3.7/dist-packages (from dash) (5.5.0)\n",
            "Requirement already satisfied: itsdangerous<2.0,>=0.24 in /usr/local/lib/python3.7/dist-packages (from Flask>=1.0.4->dash) (1.1.0)\n",
            "Requirement already satisfied: Jinja2<3.0,>=2.10.1 in /usr/local/lib/python3.7/dist-packages (from Flask>=1.0.4->dash) (2.11.3)\n",
            "Requirement already satisfied: Werkzeug<2.0,>=0.15 in /usr/local/lib/python3.7/dist-packages (from Flask>=1.0.4->dash) (1.0.1)\n",
            "Requirement already satisfied: click<8.0,>=5.1 in /usr/local/lib/python3.7/dist-packages (from Flask>=1.0.4->dash) (7.1.2)\n",
            "Requirement already satisfied: MarkupSafe>=0.23 in /usr/local/lib/python3.7/dist-packages (from Jinja2<3.0,>=2.10.1->Flask>=1.0.4->dash) (2.0.1)\n",
            "Requirement already satisfied: tenacity>=6.2.0 in /usr/local/lib/python3.7/dist-packages (from plotly>=5.0.0->dash) (8.0.1)\n",
            "Requirement already satisfied: six in /usr/local/lib/python3.7/dist-packages (from plotly>=5.0.0->dash) (1.15.0)\n",
            "Requirement already satisfied: brotli in /usr/local/lib/python3.7/dist-packages (from flask-compress->dash) (1.0.9)\n",
            "Dash is running on http://127.0.0.1:8050/\n",
            "\n",
            " * Serving Flask app \"__main__\" (lazy loading)\n",
            " * Environment: production\n",
            "\u001b[31m   WARNING: This is a development server. Do not use it in a production deployment.\u001b[0m\n",
            "\u001b[2m   Use a production WSGI server instead.\u001b[0m\n",
            " * Debug mode: off\n"
          ]
        },
        {
          "output_type": "stream",
          "name": "stderr",
          "text": [
            " * Running on http://127.0.0.1:8050/ (Press CTRL+C to quit)\n"
          ]
        }
      ]
    },
    {
      "cell_type": "code",
      "source": [
        ""
      ],
      "metadata": {
        "id": "8Jn_yFLZ1HMN"
      },
      "execution_count": null,
      "outputs": []
    }
  ]
}